{
 "cells": [
  {
   "cell_type": "markdown",
   "id": "6e83e8c8-3280-4e90-b0c5-e3d9c1dc6dac",
   "metadata": {
    "tags": []
   },
   "source": [
    "# Fundamentals and Basics - CodeBook - Session 4: News & NLP\n",
    "\n",
    "In this session, we will go though:\n",
    "\n",
    "* Quick intro to Jupyter Notabooks, Jupyter lab and CodeBook\n",
    "* [Refinitiv Data (RD) Library for Python](https://refinitiv-my.sharepoint.com/:v:/p/paul_clark/Ees01_TQeRZEkRY1iUhSJYoBugo-RySdDzJsdUbGecOHog?e=Xoj5xt&isSPOFile=1)\n",
    "    * [Search](https://developers.refinitiv.com/en/article-catalog/article/building-search-into-your-application-workflow)\n",
    "    * [Natural Language Processing](https://developers.refinitiv.com/en/article-catalog/article/predicting-MnA-targets-using-ML-Unlocking-the-potential-of-NLP-variables)"
   ]
  },
  {
   "cell_type": "markdown",
   "id": "6d5e4923-5373-4ef0-be4e-b1ebf67bdad1",
   "metadata": {
    "tags": []
   },
   "source": [
    "## Quick intro to Jupyter Notabooks, Jupyter lab and CodeBook\n",
    "\n",
    "A general note on the Jupyter Notebook usage: in order to execute the code in the cell, press Shift+Enter. While notebook is busy running your code, the cell will look like this: In [*]. When its finished, you will see it change to the sequence number of the task and the output, if any. For example,\n",
    "\n",
    "\n",
    "In [8]: df['Asset Type'].value_counts()\n",
    "\n",
    "Out[8]: `Investment Grade 47`\n",
    "\n",
    "`High Yield 24`\n",
    "\n",
    "`Islamic 10`\n",
    "\n",
    "`Covered 2`\n",
    "\n",
    "`Name: Asset Type, dtype: int64`\n",
    "\n",
    "\n",
    "For more info on the Jupyter Notebook, check out Project Jupyter site http://jupyter.org or 'How to set up a Python development environment for Refinitiv Eikon' tutorial on the Developer Community portal."
   ]
  },
  {
   "cell_type": "markdown",
   "id": "0bcb1cae-93a7-43f7-8382-ed842c6d77ea",
   "metadata": {
    "tags": []
   },
   "source": [
    "## RD\n",
    "The Refinitiv Data (RD) Library for Python is the most powerful and up-to-date (as of January 2022). You can find plenty of info on the [developer portal](https://developers.refinitiv.com/en/api-catalog/refinitiv-data-platform/refinitiv-data-library-for-python) & [GitHub](https://github.com/Refinitiv-API-Samples/Example.DataLibrary.Python) (including [examples](https://github.com/Refinitiv-API-Samples/Example.DataLibrary.Python/tree/main/Examples)) on RD. Below are a few simple examples of how to collect historical data, but you can find more on [GitHub](https://github.com/Refinitiv-API-Samples/Example.DataLibrary.Python/tree/main/Examples)\n",
    "\n",
    "In the 1st cell below, we use a configuration file. You can find the configuration file [here](https://developers.refinitiv.com/en/api-catalog/refinitiv-data-platform/refinitiv-data-library-for-python/documentation#jupyter-notebook-examples) (and [here](https://github.com/Refinitiv-API-Samples/Example.DataLibrary.Python)) This is needed for now, but soon you will only have to use `rd.open_session()` without the `os` library once an internal component of the `RD` library is released soon. You will need to change the `app-key`, `username` and `password` on this configuration file (named `refinitiv-data.config.json`)."
   ]
  },
  {
   "cell_type": "code",
   "execution_count": 22,
   "id": "867d97d7-b917-4e75-b91a-fb6a464fca39",
   "metadata": {
    "tags": []
   },
   "outputs": [],
   "source": [
    "import os\n",
    "os.environ[\"RD_LIB_CONFIG_PATH\"] = \"C:\\\\Example.DataLibrary.Python-main\\\\Example.DataLibrary.Python-main\\\\Configuration\""
   ]
  },
  {
   "cell_type": "code",
   "execution_count": 23,
   "id": "fe96d724-d20e-4bcc-b570-b930776bfb53",
   "metadata": {
    "tags": []
   },
   "outputs": [],
   "source": [
    "# !pip install refinitiv-data\n",
    "import refinitiv.data as rd  # pip install httpx==0.21.3"
   ]
  },
  {
   "cell_type": "code",
   "execution_count": 24,
   "id": "8f004a8a-937a-44a3-a422-cb22d1b352e1",
   "metadata": {
    "tags": []
   },
   "outputs": [],
   "source": [
    "# help(rd.open_session)"
   ]
  },
  {
   "cell_type": "code",
   "execution_count": 26,
   "id": "a3bebab3-1c47-407c-8c11-72251ee6f822",
   "metadata": {
    "tags": []
   },
   "outputs": [
    {
     "data": {
      "text/plain": [
       "<refinitiv.data.session.Definition object at 0x25fabc28 {name='workspace'}>"
      ]
     },
     "execution_count": 26,
     "metadata": {},
     "output_type": "execute_result"
    }
   ],
   "source": [
    "rd.open_session(\"desktop.workspace\")"
   ]
  },
  {
   "cell_type": "code",
   "execution_count": 27,
   "id": "dbe89f07-65db-426f-98cb-da0e25b9bcc1",
   "metadata": {
    "tags": []
   },
   "outputs": [
    {
     "data": {
      "text/html": [
       "<div>\n",
       "<style scoped>\n",
       "    .dataframe tbody tr th:only-of-type {\n",
       "        vertical-align: middle;\n",
       "    }\n",
       "\n",
       "    .dataframe tbody tr th {\n",
       "        vertical-align: top;\n",
       "    }\n",
       "\n",
       "    .dataframe thead th {\n",
       "        text-align: right;\n",
       "    }\n",
       "</style>\n",
       "<table border=\"1\" class=\"dataframe\">\n",
       "  <thead>\n",
       "    <tr style=\"text-align: right;\">\n",
       "      <th></th>\n",
       "      <th>Instrument</th>\n",
       "    </tr>\n",
       "  </thead>\n",
       "  <tbody>\n",
       "    <tr>\n",
       "      <th>0</th>\n",
       "      <td>IBM.N</td>\n",
       "    </tr>\n",
       "    <tr>\n",
       "      <th>1</th>\n",
       "      <td>VOD.L</td>\n",
       "    </tr>\n",
       "  </tbody>\n",
       "</table>\n",
       "</div>"
      ],
      "text/plain": [
       "  Instrument\n",
       "0      IBM.N\n",
       "1      VOD.L"
      ]
     },
     "execution_count": 27,
     "metadata": {},
     "output_type": "execute_result"
    }
   ],
   "source": [
    "rd.get_data(['IBM.N', 'VOD.L'])"
   ]
  },
  {
   "cell_type": "markdown",
   "id": "f7820086-76b0-462e-aa06-0f67417a2c23",
   "metadata": {
    "tags": []
   },
   "source": [
    "To find the fields you may look for, use the [Data Item Browser](https://developers.refinitiv.com/en/video-catalog/data-item-browser)."
   ]
  },
  {
   "cell_type": "code",
   "execution_count": 6,
   "id": "86cd35c1-ff36-4911-9028-f103aaebce40",
   "metadata": {
    "tags": []
   },
   "outputs": [
    {
     "data": {
      "text/html": [
       "<div>\n",
       "<style scoped>\n",
       "    .dataframe tbody tr th:only-of-type {\n",
       "        vertical-align: middle;\n",
       "    }\n",
       "\n",
       "    .dataframe tbody tr th {\n",
       "        vertical-align: top;\n",
       "    }\n",
       "\n",
       "    .dataframe thead tr th {\n",
       "        text-align: left;\n",
       "    }\n",
       "\n",
       "    .dataframe thead tr:last-of-type th {\n",
       "        text-align: right;\n",
       "    }\n",
       "</style>\n",
       "<table border=\"1\" class=\"dataframe\">\n",
       "  <thead>\n",
       "    <tr>\n",
       "      <th></th>\n",
       "      <th colspan=\"4\" halign=\"left\">AATMIV.M</th>\n",
       "      <th colspan=\"4\" halign=\"left\">IBM.N</th>\n",
       "      <th colspan=\"4\" halign=\"left\">VOD.L</th>\n",
       "    </tr>\n",
       "    <tr>\n",
       "      <th></th>\n",
       "      <th>30D_A_IM_C</th>\n",
       "      <th>ASK</th>\n",
       "      <th>BID</th>\n",
       "      <th>Revenue</th>\n",
       "      <th>30D_A_IM_C</th>\n",
       "      <th>ASK</th>\n",
       "      <th>BID</th>\n",
       "      <th>Revenue</th>\n",
       "      <th>30D_A_IM_C</th>\n",
       "      <th>ASK</th>\n",
       "      <th>BID</th>\n",
       "      <th>Revenue</th>\n",
       "    </tr>\n",
       "    <tr>\n",
       "      <th>Date</th>\n",
       "      <th></th>\n",
       "      <th></th>\n",
       "      <th></th>\n",
       "      <th></th>\n",
       "      <th></th>\n",
       "      <th></th>\n",
       "      <th></th>\n",
       "      <th></th>\n",
       "      <th></th>\n",
       "      <th></th>\n",
       "      <th></th>\n",
       "      <th></th>\n",
       "    </tr>\n",
       "  </thead>\n",
       "  <tbody>\n",
       "    <tr>\n",
       "      <th>2014-12-31</th>\n",
       "      <td>&lt;NA&gt;</td>\n",
       "      <td>&lt;NA&gt;</td>\n",
       "      <td>&lt;NA&gt;</td>\n",
       "      <td>&lt;NA&gt;</td>\n",
       "      <td>&lt;NA&gt;</td>\n",
       "      <td>&lt;NA&gt;</td>\n",
       "      <td>&lt;NA&gt;</td>\n",
       "      <td>92793000000.0</td>\n",
       "      <td>&lt;NA&gt;</td>\n",
       "      <td>&lt;NA&gt;</td>\n",
       "      <td>&lt;NA&gt;</td>\n",
       "      <td>&lt;NA&gt;</td>\n",
       "    </tr>\n",
       "    <tr>\n",
       "      <th>2015-03-31</th>\n",
       "      <td>&lt;NA&gt;</td>\n",
       "      <td>&lt;NA&gt;</td>\n",
       "      <td>&lt;NA&gt;</td>\n",
       "      <td>&lt;NA&gt;</td>\n",
       "      <td>&lt;NA&gt;</td>\n",
       "      <td>&lt;NA&gt;</td>\n",
       "      <td>&lt;NA&gt;</td>\n",
       "      <td>&lt;NA&gt;</td>\n",
       "      <td>&lt;NA&gt;</td>\n",
       "      <td>&lt;NA&gt;</td>\n",
       "      <td>&lt;NA&gt;</td>\n",
       "      <td>48385000000.0</td>\n",
       "    </tr>\n",
       "    <tr>\n",
       "      <th>2015-12-31</th>\n",
       "      <td>&lt;NA&gt;</td>\n",
       "      <td>&lt;NA&gt;</td>\n",
       "      <td>&lt;NA&gt;</td>\n",
       "      <td>&lt;NA&gt;</td>\n",
       "      <td>&lt;NA&gt;</td>\n",
       "      <td>131.411463</td>\n",
       "      <td>131.39236</td>\n",
       "      <td>81741000000.0</td>\n",
       "      <td>&lt;NA&gt;</td>\n",
       "      <td>&lt;NA&gt;</td>\n",
       "      <td>&lt;NA&gt;</td>\n",
       "      <td>&lt;NA&gt;</td>\n",
       "    </tr>\n",
       "    <tr>\n",
       "      <th>2016-03-31</th>\n",
       "      <td>&lt;NA&gt;</td>\n",
       "      <td>&lt;NA&gt;</td>\n",
       "      <td>&lt;NA&gt;</td>\n",
       "      <td>&lt;NA&gt;</td>\n",
       "      <td>&lt;NA&gt;</td>\n",
       "      <td>&lt;NA&gt;</td>\n",
       "      <td>&lt;NA&gt;</td>\n",
       "      <td>&lt;NA&gt;</td>\n",
       "      <td>&lt;NA&gt;</td>\n",
       "      <td>&lt;NA&gt;</td>\n",
       "      <td>&lt;NA&gt;</td>\n",
       "      <td>49810000000.0</td>\n",
       "    </tr>\n",
       "    <tr>\n",
       "      <th>2016-12-31</th>\n",
       "      <td>&lt;NA&gt;</td>\n",
       "      <td>&lt;NA&gt;</td>\n",
       "      <td>&lt;NA&gt;</td>\n",
       "      <td>&lt;NA&gt;</td>\n",
       "      <td>&lt;NA&gt;</td>\n",
       "      <td>158.576327</td>\n",
       "      <td>158.547672</td>\n",
       "      <td>79919000000.0</td>\n",
       "      <td>&lt;NA&gt;</td>\n",
       "      <td>&lt;NA&gt;</td>\n",
       "      <td>&lt;NA&gt;</td>\n",
       "      <td>&lt;NA&gt;</td>\n",
       "    </tr>\n",
       "    <tr>\n",
       "      <th>2017-03-31</th>\n",
       "      <td>&lt;NA&gt;</td>\n",
       "      <td>&lt;NA&gt;</td>\n",
       "      <td>&lt;NA&gt;</td>\n",
       "      <td>&lt;NA&gt;</td>\n",
       "      <td>&lt;NA&gt;</td>\n",
       "      <td>&lt;NA&gt;</td>\n",
       "      <td>&lt;NA&gt;</td>\n",
       "      <td>&lt;NA&gt;</td>\n",
       "      <td>&lt;NA&gt;</td>\n",
       "      <td>&lt;NA&gt;</td>\n",
       "      <td>&lt;NA&gt;</td>\n",
       "      <td>47631000000.0</td>\n",
       "    </tr>\n",
       "    <tr>\n",
       "      <th>2017-12-31</th>\n",
       "      <td>&lt;NA&gt;</td>\n",
       "      <td>&lt;NA&gt;</td>\n",
       "      <td>&lt;NA&gt;</td>\n",
       "      <td>&lt;NA&gt;</td>\n",
       "      <td>&lt;NA&gt;</td>\n",
       "      <td>146.636777</td>\n",
       "      <td>146.627226</td>\n",
       "      <td>79139000000.0</td>\n",
       "      <td>&lt;NA&gt;</td>\n",
       "      <td>&lt;NA&gt;</td>\n",
       "      <td>&lt;NA&gt;</td>\n",
       "      <td>&lt;NA&gt;</td>\n",
       "    </tr>\n",
       "    <tr>\n",
       "      <th>2018-03-31</th>\n",
       "      <td>&lt;NA&gt;</td>\n",
       "      <td>&lt;NA&gt;</td>\n",
       "      <td>&lt;NA&gt;</td>\n",
       "      <td>&lt;NA&gt;</td>\n",
       "      <td>&lt;NA&gt;</td>\n",
       "      <td>&lt;NA&gt;</td>\n",
       "      <td>&lt;NA&gt;</td>\n",
       "      <td>&lt;NA&gt;</td>\n",
       "      <td>&lt;NA&gt;</td>\n",
       "      <td>&lt;NA&gt;</td>\n",
       "      <td>&lt;NA&gt;</td>\n",
       "      <td>46571000000.0</td>\n",
       "    </tr>\n",
       "    <tr>\n",
       "      <th>2018-12-31</th>\n",
       "      <td>&lt;NA&gt;</td>\n",
       "      <td>&lt;NA&gt;</td>\n",
       "      <td>&lt;NA&gt;</td>\n",
       "      <td>&lt;NA&gt;</td>\n",
       "      <td>&lt;NA&gt;</td>\n",
       "      <td>108.535285</td>\n",
       "      <td>108.516182</td>\n",
       "      <td>79591000000.0</td>\n",
       "      <td>&lt;NA&gt;</td>\n",
       "      <td>&lt;NA&gt;</td>\n",
       "      <td>&lt;NA&gt;</td>\n",
       "      <td>&lt;NA&gt;</td>\n",
       "    </tr>\n",
       "    <tr>\n",
       "      <th>2019-03-31</th>\n",
       "      <td>&lt;NA&gt;</td>\n",
       "      <td>&lt;NA&gt;</td>\n",
       "      <td>&lt;NA&gt;</td>\n",
       "      <td>&lt;NA&gt;</td>\n",
       "      <td>&lt;NA&gt;</td>\n",
       "      <td>&lt;NA&gt;</td>\n",
       "      <td>&lt;NA&gt;</td>\n",
       "      <td>&lt;NA&gt;</td>\n",
       "      <td>&lt;NA&gt;</td>\n",
       "      <td>&lt;NA&gt;</td>\n",
       "      <td>&lt;NA&gt;</td>\n",
       "      <td>43666000000.0</td>\n",
       "    </tr>\n",
       "    <tr>\n",
       "      <th>2019-12-31</th>\n",
       "      <td>&lt;NA&gt;</td>\n",
       "      <td>&lt;NA&gt;</td>\n",
       "      <td>&lt;NA&gt;</td>\n",
       "      <td>&lt;NA&gt;</td>\n",
       "      <td>&lt;NA&gt;</td>\n",
       "      <td>127.991976</td>\n",
       "      <td>127.963321</td>\n",
       "      <td>&lt;NA&gt;</td>\n",
       "      <td>&lt;NA&gt;</td>\n",
       "      <td>&lt;NA&gt;</td>\n",
       "      <td>&lt;NA&gt;</td>\n",
       "      <td>&lt;NA&gt;</td>\n",
       "    </tr>\n",
       "    <tr>\n",
       "      <th>2020-12-31</th>\n",
       "      <td>&lt;NA&gt;</td>\n",
       "      <td>&lt;NA&gt;</td>\n",
       "      <td>&lt;NA&gt;</td>\n",
       "      <td>&lt;NA&gt;</td>\n",
       "      <td>&lt;NA&gt;</td>\n",
       "      <td>120.236044</td>\n",
       "      <td>120.159631</td>\n",
       "      <td>&lt;NA&gt;</td>\n",
       "      <td>&lt;NA&gt;</td>\n",
       "      <td>&lt;NA&gt;</td>\n",
       "      <td>&lt;NA&gt;</td>\n",
       "      <td>&lt;NA&gt;</td>\n",
       "    </tr>\n",
       "  </tbody>\n",
       "</table>\n",
       "</div>"
      ],
      "text/plain": [
       "             AATMIV.M                          IBM.N                          \\\n",
       "           30D_A_IM_C   ASK   BID Revenue 30D_A_IM_C         ASK         BID   \n",
       "Date                                                                           \n",
       "2014-12-31       <NA>  <NA>  <NA>    <NA>       <NA>        <NA>        <NA>   \n",
       "2015-03-31       <NA>  <NA>  <NA>    <NA>       <NA>        <NA>        <NA>   \n",
       "2015-12-31       <NA>  <NA>  <NA>    <NA>       <NA>  131.411463   131.39236   \n",
       "2016-03-31       <NA>  <NA>  <NA>    <NA>       <NA>        <NA>        <NA>   \n",
       "2016-12-31       <NA>  <NA>  <NA>    <NA>       <NA>  158.576327  158.547672   \n",
       "2017-03-31       <NA>  <NA>  <NA>    <NA>       <NA>        <NA>        <NA>   \n",
       "2017-12-31       <NA>  <NA>  <NA>    <NA>       <NA>  146.636777  146.627226   \n",
       "2018-03-31       <NA>  <NA>  <NA>    <NA>       <NA>        <NA>        <NA>   \n",
       "2018-12-31       <NA>  <NA>  <NA>    <NA>       <NA>  108.535285  108.516182   \n",
       "2019-03-31       <NA>  <NA>  <NA>    <NA>       <NA>        <NA>        <NA>   \n",
       "2019-12-31       <NA>  <NA>  <NA>    <NA>       <NA>  127.991976  127.963321   \n",
       "2020-12-31       <NA>  <NA>  <NA>    <NA>       <NA>  120.236044  120.159631   \n",
       "\n",
       "                               VOD.L                             \n",
       "                  Revenue 30D_A_IM_C   ASK   BID        Revenue  \n",
       "Date                                                             \n",
       "2014-12-31  92793000000.0       <NA>  <NA>  <NA>           <NA>  \n",
       "2015-03-31           <NA>       <NA>  <NA>  <NA>  48385000000.0  \n",
       "2015-12-31  81741000000.0       <NA>  <NA>  <NA>           <NA>  \n",
       "2016-03-31           <NA>       <NA>  <NA>  <NA>  49810000000.0  \n",
       "2016-12-31  79919000000.0       <NA>  <NA>  <NA>           <NA>  \n",
       "2017-03-31           <NA>       <NA>  <NA>  <NA>  47631000000.0  \n",
       "2017-12-31  79139000000.0       <NA>  <NA>  <NA>           <NA>  \n",
       "2018-03-31           <NA>       <NA>  <NA>  <NA>  46571000000.0  \n",
       "2018-12-31  79591000000.0       <NA>  <NA>  <NA>           <NA>  \n",
       "2019-03-31           <NA>       <NA>  <NA>  <NA>  43666000000.0  \n",
       "2019-12-31           <NA>       <NA>  <NA>  <NA>           <NA>  \n",
       "2020-12-31           <NA>       <NA>  <NA>  <NA>           <NA>  "
      ]
     },
     "execution_count": 6,
     "metadata": {},
     "output_type": "execute_result"
    }
   ],
   "source": [
    "rd.get_history(universe=[\"IBM.N\", \"VOD.L\", \"AATMIV.M\"],\n",
    "               fields=[\"BID\", \"ASK\", \"TR.Revenue\", \"30D_A_IM_C\"],\n",
    "               interval=\"1Y\",  # Supported values: tick, tas, taq, minute, 1min, 5min, 10min, 30min, 60min, hourly, 1h, daily, 1d, 1D, 7D, 7d, weekly, 1W, monthly, 1M, quarterly, 3M, 6M, yearly, 1Y\n",
    "               # interval=\"tick\", count=2000\n",
    "               start=\"2015-01-01\",\n",
    "               end=\"2020-10-01\")"
   ]
  },
  {
   "cell_type": "code",
   "execution_count": 28,
   "id": "739b1461-c2f3-4fdd-91b1-545cd5d796aa",
   "metadata": {
    "tags": []
   },
   "outputs": [
    {
     "name": "stderr",
     "output_type": "stream",
     "text": [
      "[Error 400 - invalid_grant] empty error description\n"
     ]
    }
   ],
   "source": [
    "rd.close_session()"
   ]
  },
  {
   "cell_type": "markdown",
   "id": "fe355bf6-94fd-4a63-b915-9dacdcda94ba",
   "metadata": {
    "tags": []
   },
   "source": [
    "## Natural Language Processing\n",
    "\n",
    "In this section, we'll look into [Haykaz](https://www.linkedin.com/in/haykaz-aramyan-46a50a84/?originalSubdomain=am)'s [article](https://developers.refinitiv.com/en/article-catalog/article/predicting-MnA-targets-using-ML-Unlocking-the-potential-of-NLP-variables)"
   ]
  },
  {
   "cell_type": "markdown",
   "id": "94f46991-22e8-4c2a-b1c3-f3d3b1aa3367",
   "metadata": {
    "tags": []
   },
   "source": [
    "## Reasources\n",
    "\n",
    "* Video Reasources\n",
    "    * [Refinitiv Data (RD) Library for Python - Olivier Davant Training Video](https://refinitiv-my.sharepoint.com/:v:/p/paul_clark/Ees01_TQeRZEkRY1iUhSJYoBugo-RySdDzJsdUbGecOHog?e=Xoj5xt&isSPOFile=1)\n",
    "    * [Datastram Web Services (DSWS) Video tutorial and article with code](https://developers.refinitiv.com/en/article-catalog/article/estimating-monthly-gdp-via-the-expenditure-approach-and-the-holt-winters-model)\n",
    "    * [Estimating Monthly GDP via the Expenditure Approach and the Holt Winters Model](https://developers.refinitiv.com/en/article-catalog/article/estimating-monthly-gdp-via-the-expenditure-approach-and-the-holt-winters-model)\n",
    "    * [Twitch live coding sessions (where you can ask API-related questions) every tuesday on Twitch](https://www.twitch.tv/johnukfr/schedule)\n",
    "    * [Eikon Data API - Python Quants Tutorial 10 - NLP I : News Text Analysis](https://developers.refinitiv.com/en/video-catalog/eikon-data-api-python-quants-tutorial-10-nlp-I-news-text-analysis)\n",
    "    \n",
    "* Other\n",
    "    * [News Retraival API Limit](https://developers.refinitiv.com/en/api-catalog/eikon/eikon-data-api/documentation#:~:text=Requests%20per%20day%20%2D%20The%20number,is%2010%2C000%20requests%20per%20day.)"
   ]
  },
  {
   "cell_type": "code",
   "execution_count": null,
   "id": "ec4b5253-7280-4fc7-aa60-f5ce14211c85",
   "metadata": {},
   "outputs": [],
   "source": []
  }
 ],
 "metadata": {
  "kernelspec": {
   "display_name": "Python 3",
   "language": "python",
   "name": "python3"
  },
  "language_info": {
   "codemirror_mode": {
    "name": "ipython",
    "version": 3
   },
   "file_extension": ".py",
   "mimetype": "text/x-python",
   "name": "python",
   "nbconvert_exporter": "python",
   "pygments_lexer": "ipython3",
   "version": "3.8.2"
  },
  "toc-autonumbering": false,
  "toc-showcode": false,
  "toc-showmarkdowntxt": false
 },
 "nbformat": 4,
 "nbformat_minor": 5
}
